{
 "cells": [
  {
   "cell_type": "markdown",
   "id": "12e6db28",
   "metadata": {},
   "source": [
    "## Python control structures\n",
    "\n",
    "Objectives\n",
    "\n",
    "- Change program flow using available language constructs\n",
    "\n",
    "- Demonstrate how to execute a section of code a fixed number of times\n",
    "\n",
    "- Demonstrate how to conditionally execute a section of code\n",
    "\n",
    "- Demonstrate how to execute a section of code on a list of items"
   ]
  },
  {
   "cell_type": "markdown",
   "id": "47810510",
   "metadata": {},
   "source": [
    "## Programs are rarely linear\n",
    "\n",
    "Most programs do not work by executing a simple sequential set of statements. The code is constructed so that decisions and different paths through the program can be taken based on changes in variable values.\n",
    "\n",
    "To make this possible all programming language have a set of control structures which allow this to happen.\n",
    "\n",
    "We will look at three control structures, namely:\n",
    "\n",
    "- if..else..\n",
    "- while…\n",
    "- for …"
   ]
  },
  {
   "cell_type": "markdown",
   "id": "ca67394f",
   "metadata": {},
   "source": [
    "## The if statement and variants\n",
    "\n",
    "The simple if statement allows the program to branch based on the evaluation of an expression\n",
    "\n",
    "The basic format of the if statement is:\n",
    "\n",
    "\n",
    "if expression :\n",
    "\n",
    "    statement 1\n",
    "    statement 2\n",
    "    ...\n",
    "    statement n\n",
    "    \n",
    "statement always executed"
   ]
  },
  {
   "cell_type": "markdown",
   "id": "f04979f6",
   "metadata": {},
   "source": [
    "If the expression evaluates to **True** then the statements 1 to n will be executed followed by **statement always executed**. If the expression is **False**, only **statement always executed** is executed. \n",
    "\n",
    "Python knows which lines of code are related to the if statement by the indentation, no extra syntax is necessary."
   ]
  },
  {
   "cell_type": "code",
   "execution_count": 2,
   "id": "5b23beae",
   "metadata": {},
   "outputs": [
    {
     "name": "stdout",
     "output_type": "stream",
     "text": [
      "\n",
      "Example 1\n",
      "\n",
      "value is 5 threshold is  4\n",
      "5 is bigger than  4\n"
     ]
    }
   ],
   "source": [
    "print(\"\\nExample 1\\n\")\n",
    "\n",
    "value = 5\n",
    "threshold= 4\n",
    "print(\"value is\", value, \"threshold is \",threshold)\n",
    "if value > threshold :\n",
    "    print(value, \"is bigger than \", threshold)"
   ]
  },
  {
   "cell_type": "code",
   "execution_count": 2,
   "id": "6b711e22",
   "metadata": {},
   "outputs": [
    {
     "name": "stdout",
     "output_type": "stream",
     "text": [
      "\n",
      "Example 2\n",
      "\n",
      "value is 5 new threshold is  6\n"
     ]
    }
   ],
   "source": [
    "print(\"\\nExample 2\\n\")\n",
    "\n",
    "high_threshold = 6\n",
    "print(\"value is\", value, \"new threshold is \",high_threshold)\n",
    "if value > high_threshold :\n",
    "    print(value , \"is above \", high_threshold, \"threshold\")"
   ]
  },
  {
   "cell_type": "code",
   "execution_count": 3,
   "id": "069e4a46",
   "metadata": {},
   "outputs": [
    {
     "name": "stdout",
     "output_type": "stream",
     "text": [
      "\n",
      "Example 3\n",
      "\n",
      "value is 5 final threshold is  5\n",
      "value,  5  and threshold, 5 , are equal\n"
     ]
    }
   ],
   "source": [
    "print(\"\\nExample 3\\n\")\n",
    "\n",
    "mid_threshold = 5\n",
    "print(\"value is\", value, \"final threshold is \",mid_threshold)\n",
    "if value == mid_threshold :\n",
    "    print(\"value, \", value, \" and threshold,\", mid_threshold, \", are equal\")"
   ]
  },
  {
   "cell_type": "markdown",
   "id": "2e833a29",
   "metadata": {},
   "source": [
    "Instead of using two separate **if** statements to decide which is larger we can use the **if ... else ...** construct"
   ]
  },
  {
   "cell_type": "code",
   "execution_count": 4,
   "id": "ed77f229",
   "metadata": {},
   "outputs": [
    {
     "name": "stdout",
     "output_type": "stream",
     "text": [
      "value =  4 and threshold =  5\n",
      "below threshold\n"
     ]
    }
   ],
   "source": [
    "value = 4\n",
    "threshold = 5\n",
    "print(\"value = \", value, \"and threshold = \", threshold)\n",
    "\n",
    "if value > threshold :\n",
    "    print(\"above threshold\")\n",
    "else :\n",
    "    print(\"below threshold\")"
   ]
  },
  {
   "cell_type": "markdown",
   "id": "70e87ef4",
   "metadata": {},
   "source": [
    "A further extension of the if statement is the **if ... elif ...else** version."
   ]
  },
  {
   "cell_type": "code",
   "execution_count": 5,
   "id": "a8ccfcfb",
   "metadata": {},
   "outputs": [
    {
     "name": "stdout",
     "output_type": "stream",
     "text": [
      "a =  5 and b =  4\n",
      "5  is greater than  4\n"
     ]
    }
   ],
   "source": [
    "# if ... elif ... else ... endIf\n",
    "\n",
    "a = 5\n",
    "b = 4\n",
    "print(\"a = \", a, \"and b = \", b)\n",
    "\n",
    "if a > b :\n",
    "    print(a, \" is greater than \", b)\n",
    "elif a == b :\n",
    "    print(a, \" equals \", b)\n",
    "else :\n",
    "    print(a, \" is less than \", b)"
   ]
  },
  {
   "cell_type": "markdown",
   "id": "37a11ae2",
   "metadata": {},
   "source": [
    "## The while loop\n",
    "\n",
    "The while loop is used to repeatedly execute lines of code until some condition becomes False.\n",
    "\n",
    "For the loop to terminate, there has to be something in the code which will potentially change the condition.\n",
    "\n"
   ]
  },
  {
   "cell_type": "code",
   "execution_count": 6,
   "id": "b83bee0f",
   "metadata": {},
   "outputs": [
    {
     "name": "stdout",
     "output_type": "stream",
     "text": [
      "The sum of the numbers from 1 to 10 is  55\n"
     ]
    }
   ],
   "source": [
    "# while loop\n",
    "n = 10\n",
    "cur_sum = 0\n",
    "# sum of n  numbers\n",
    "i = 1\n",
    "while  i <= n :\n",
    "    cur_sum = cur_sum + i\n",
    "    i = i + 1\n",
    "print(\"The sum of the numbers from 1 to\", n, \"is \", cur_sum)"
   ]
  },
  {
   "cell_type": "markdown",
   "id": "f6ef37a4",
   "metadata": {},
   "source": [
    "## The for loop\n",
    "\n",
    "The for loop, like the while loop repeatedly executes a set of statements. The difference is that in the for loop we know in at the outset how often the statements in the loop will be executed. We don’t have to rely on a variable being changed within the looping statements.\n",
    "\n",
    "The basic format of the for statement is\n",
    "\n",
    "for variable_name in some_sequence :\n",
    "\n",
    "    statement1\n",
    "    statement2\n",
    "    ...\n",
    "    statementn"
   ]
  },
  {
   "cell_type": "markdown",
   "id": "f5cd9ff1",
   "metadata": {},
   "source": [
    "The key part of this is the **some_sequence**. The phrase used in the documentation is that it must be ‘iterable’. That means, you can count through the sequence, starting at the beginning and stopping at the end.\n",
    "\n",
    "There are many examples of things which are iterable some of which we have already come across.\n",
    "\n",
    "- Lists are iterable - they don’t have to contain numbers, you iterate over the elements in the list.\n",
    "- The range() function\n",
    "- The characters in a string"
   ]
  },
  {
   "cell_type": "code",
   "execution_count": 7,
   "id": "33a68061",
   "metadata": {},
   "outputs": [
    {
     "name": "stdout",
     "output_type": "stream",
     "text": [
      "\n",
      "Example 1\n",
      "\n",
      "1\n",
      "2\n",
      "3\n"
     ]
    }
   ],
   "source": [
    "print(\"\\nExample 1\\n\")\n",
    "for i in [1,2,3] :\n",
    "    print(i)"
   ]
  },
  {
   "cell_type": "code",
   "execution_count": 5,
   "id": "456235ee",
   "metadata": {},
   "outputs": [
    {
     "name": "stdout",
     "output_type": "stream",
     "text": [
      "\n",
      "Example 2\n",
      "\n",
      "Tom\n",
      "Dick\n",
      "Harry\n"
     ]
    }
   ],
   "source": [
    "print(\"\\nExample 2\\n\")\n",
    "for name in [\"Tom\", \"Dick\", \"Harry\"] :\n",
    "    print(name)"
   ]
  },
  {
   "cell_type": "code",
   "execution_count": 9,
   "id": "50124179",
   "metadata": {},
   "outputs": [
    {
     "name": "stdout",
     "output_type": "stream",
     "text": [
      "\n",
      "Example 3\n",
      "\n",
      "Tom\n",
      "42\n",
      "3.142\n"
     ]
    }
   ],
   "source": [
    "print(\"\\nExample 3\\n\")\n",
    "for name in [\"Tom\", 42, 3.142] :\n",
    "    print(name)"
   ]
  },
  {
   "cell_type": "code",
   "execution_count": 8,
   "id": "72c7ab17",
   "metadata": {},
   "outputs": [
    {
     "name": "stdout",
     "output_type": "stream",
     "text": [
      "\n",
      "Example 4\n",
      "\n",
      "3\n",
      "8\n",
      "13\n",
      "18\n",
      "23\n",
      "28\n"
     ]
    }
   ],
   "source": [
    "print(\"\\nExample 4\\n\")\n",
    "for ii in range(3,30,5) :\n",
    "    print(ii)"
   ]
  },
  {
   "cell_type": "code",
   "execution_count": 11,
   "id": "1bac74da",
   "metadata": {},
   "outputs": [
    {
     "name": "stdout",
     "output_type": "stream",
     "text": [
      "\n",
      "Example 5\n",
      "\n",
      "1\n",
      "2\n",
      "3\n"
     ]
    }
   ],
   "source": [
    "print(\"\\nExample 5\\n\")\n",
    "for i in range(1,4) :\n",
    "    print(i)"
   ]
  },
  {
   "cell_type": "code",
   "execution_count": 12,
   "id": "1be73bb6",
   "metadata": {},
   "outputs": [
    {
     "name": "stdout",
     "output_type": "stream",
     "text": [
      "\n",
      "Example 6\n",
      "\n",
      "2\n",
      "4\n",
      "6\n",
      "8\n",
      "10\n"
     ]
    }
   ],
   "source": [
    "print(\"\\nExample 6\\n\")\n",
    "for i in range(2, 11, 2) :\n",
    "    print(i)"
   ]
  },
  {
   "cell_type": "code",
   "execution_count": 13,
   "id": "30f80132",
   "metadata": {},
   "outputs": [
    {
     "name": "stdout",
     "output_type": "stream",
     "text": [
      "\n",
      "Example 7\n",
      "\n",
      "A\n",
      "B\n",
      "C\n",
      "D\n",
      "E\n"
     ]
    }
   ],
   "source": [
    "print(\"\\nExample 7\\n\")\n",
    "for i in \"ABCDE\" :\n",
    "    print(i)"
   ]
  },
  {
   "cell_type": "code",
   "execution_count": 14,
   "id": "d1874d0c",
   "metadata": {},
   "outputs": [
    {
     "name": "stdout",
     "output_type": "stream",
     "text": [
      "\n",
      "Example 8\n",
      "\n",
      "The\n",
      "quick\n",
      "brown\n",
      "fox\n",
      "jumped\n",
      "over\n",
      "the\n",
      "lazy\n",
      "sleeping\n",
      "dog\n"
     ]
    }
   ],
   "source": [
    "print(\"\\nExample 8\\n\")\n",
    "longString = \"The quick brown fox jumped over the lazy sleeping dog\"\n",
    "for word in longString.split() :\n",
    "    print(word)"
   ]
  }
 ],
 "metadata": {
  "kernelspec": {
   "display_name": "Python 3 (ipykernel)",
   "language": "python",
   "name": "python3"
  },
  "language_info": {
   "codemirror_mode": {
    "name": "ipython",
    "version": 3
   },
   "file_extension": ".py",
   "mimetype": "text/x-python",
   "name": "python",
   "nbconvert_exporter": "python",
   "pygments_lexer": "ipython3",
   "version": "3.8.8"
  }
 },
 "nbformat": 4,
 "nbformat_minor": 5
}
