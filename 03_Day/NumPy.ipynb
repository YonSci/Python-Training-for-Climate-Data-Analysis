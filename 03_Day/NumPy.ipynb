{
 "cells": [
  {
   "cell_type": "markdown",
   "id": "aa44cd7b",
   "metadata": {
    "toc": true
   },
   "source": [
    "<h1>Table of Contents<span class=\"tocSkip\"></span></h1>\n",
    "<div class=\"toc\"><ul class=\"toc-item\"><li><span><a href=\"#NumPy:-Creating-and-Manipulating-Numerical-Data\" data-toc-modified-id=\"NumPy:-Creating-and-Manipulating-Numerical-Data-1\"><span class=\"toc-item-num\">1&nbsp;&nbsp;</span>NumPy: Creating and Manipulating Numerical Data</a></span><ul class=\"toc-item\"><li><span><a href=\"#Numpy-Importing-Conventions\" data-toc-modified-id=\"Numpy-Importing-Conventions-1.1\"><span class=\"toc-item-num\">1.1&nbsp;&nbsp;</span>Numpy Importing Conventions</a></span></li><li><span><a href=\"#Creating-Arrays\" data-toc-modified-id=\"Creating-Arrays-1.2\"><span class=\"toc-item-num\">1.2&nbsp;&nbsp;</span>Creating Arrays</a></span><ul class=\"toc-item\"><li><span><a href=\"#Manual-construction-of-arrays\" data-toc-modified-id=\"Manual-construction-of-arrays-1.2.1\"><span class=\"toc-item-num\">1.2.1&nbsp;&nbsp;</span>Manual construction of arrays</a></span></li><li><span><a href=\"#2-Dimensional-Arrays\" data-toc-modified-id=\"2-Dimensional-Arrays-1.2.2\"><span class=\"toc-item-num\">1.2.2&nbsp;&nbsp;</span>2-Dimensional Arrays</a></span></li><li><span><a href=\"#3-Dimensional-Arrays\" data-toc-modified-id=\"3-Dimensional-Arrays-1.2.3\"><span class=\"toc-item-num\">1.2.3&nbsp;&nbsp;</span>3-Dimensional Arrays</a></span></li></ul></li><li><span><a href=\"#Functions-for-creating-arrays\" data-toc-modified-id=\"Functions-for-creating-arrays-1.3\"><span class=\"toc-item-num\">1.3&nbsp;&nbsp;</span>Functions for creating arrays</a></span><ul class=\"toc-item\"><li><span><a href=\"#Evenly-spaced-arrays:\" data-toc-modified-id=\"Evenly-spaced-arrays:-1.3.1\"><span class=\"toc-item-num\">1.3.1&nbsp;&nbsp;</span>Evenly spaced arrays:</a></span></li><li><span><a href=\"#Common-Arrays\" data-toc-modified-id=\"Common-Arrays-1.3.2\"><span class=\"toc-item-num\">1.3.2&nbsp;&nbsp;</span>Common Arrays</a></span></li><li><span><a href=\"#Ones\" data-toc-modified-id=\"Ones-1.3.3\"><span class=\"toc-item-num\">1.3.3&nbsp;&nbsp;</span>Ones</a></span></li><li><span><a href=\"#Zeros\" data-toc-modified-id=\"Zeros-1.3.4\"><span class=\"toc-item-num\">1.3.4&nbsp;&nbsp;</span>Zeros</a></span></li><li><span><a href=\"#Diagonal-Matrix\" data-toc-modified-id=\"Diagonal-Matrix-1.3.5\"><span class=\"toc-item-num\">1.3.5&nbsp;&nbsp;</span>Diagonal Matrix</a></span></li></ul></li><li><span><a href=\"#Random-numbers\" data-toc-modified-id=\"Random-numbers-1.4\"><span class=\"toc-item-num\">1.4&nbsp;&nbsp;</span>Random numbers</a></span><ul class=\"toc-item\"><li><span><a href=\"#Uniform\" data-toc-modified-id=\"Uniform-1.4.1\"><span class=\"toc-item-num\">1.4.1&nbsp;&nbsp;</span>Uniform</a></span></li><li><span><a href=\"#Gaussian\" data-toc-modified-id=\"Gaussian-1.4.2\"><span class=\"toc-item-num\">1.4.2&nbsp;&nbsp;</span>Gaussian</a></span></li></ul></li><li><span><a href=\"#Basic-Data-Types\" data-toc-modified-id=\"Basic-Data-Types-1.5\"><span class=\"toc-item-num\">1.5&nbsp;&nbsp;</span>Basic Data Types</a></span><ul class=\"toc-item\"><li><span><a href=\"#Intgers\" data-toc-modified-id=\"Intgers-1.5.1\"><span class=\"toc-item-num\">1.5.1&nbsp;&nbsp;</span>Intgers</a></span></li><li><span><a href=\"#Floats\" data-toc-modified-id=\"Floats-1.5.2\"><span class=\"toc-item-num\">1.5.2&nbsp;&nbsp;</span>Floats</a></span></li><li><span><a href=\"#Explicitly-specify-the-data-type\" data-toc-modified-id=\"Explicitly-specify-the-data-type-1.5.3\"><span class=\"toc-item-num\">1.5.3&nbsp;&nbsp;</span>Explicitly specify the data-type</a></span></li><li><span><a href=\"#Other-Data-Types\" data-toc-modified-id=\"Other-Data-Types-1.5.4\"><span class=\"toc-item-num\">1.5.4&nbsp;&nbsp;</span>Other Data Types</a></span></li><li><span><a href=\"#Complex-Number\" data-toc-modified-id=\"Complex-Number-1.5.5\"><span class=\"toc-item-num\">1.5.5&nbsp;&nbsp;</span>Complex Number</a></span></li><li><span><a href=\"#Boolean-Number\" data-toc-modified-id=\"Boolean-Number-1.5.6\"><span class=\"toc-item-num\">1.5.6&nbsp;&nbsp;</span>Boolean Number</a></span></li><li><span><a href=\"#String\" data-toc-modified-id=\"String-1.5.7\"><span class=\"toc-item-num\">1.5.7&nbsp;&nbsp;</span>String</a></span></li></ul></li><li><span><a href=\"#Indexing-and-Slicing\" data-toc-modified-id=\"Indexing-and-Slicing-1.6\"><span class=\"toc-item-num\">1.6&nbsp;&nbsp;</span>Indexing and Slicing</a></span><ul class=\"toc-item\"><li><span><a href=\"#Reversing-a-sequence\" data-toc-modified-id=\"Reversing-a-sequence-1.6.1\"><span class=\"toc-item-num\">1.6.1&nbsp;&nbsp;</span>Reversing a sequence</a></span></li><li><span><a href=\"#Indexing-Multidimensional-Arrays\" data-toc-modified-id=\"Indexing-Multidimensional-Arrays-1.6.2\"><span class=\"toc-item-num\">1.6.2&nbsp;&nbsp;</span>Indexing Multidimensional Arrays</a></span></li><li><span><a href=\"#Indexing-by-Row\" data-toc-modified-id=\"Indexing-by-Row-1.6.3\"><span class=\"toc-item-num\">1.6.3&nbsp;&nbsp;</span>Indexing by Row</a></span></li><li><span><a href=\"#Indexing-by-Column\" data-toc-modified-id=\"Indexing-by-Column-1.6.4\"><span class=\"toc-item-num\">1.6.4&nbsp;&nbsp;</span>Indexing by Column</a></span></li><li><span><a href=\"#Slicing\" data-toc-modified-id=\"Slicing-1.6.5\"><span class=\"toc-item-num\">1.6.5&nbsp;&nbsp;</span>Slicing</a></span></li><li><span><a href=\"#Combine-Assignment-and-Slicing\" data-toc-modified-id=\"Combine-Assignment-and-Slicing-1.6.6\"><span class=\"toc-item-num\">1.6.6&nbsp;&nbsp;</span>Combine Assignment and Slicing</a></span></li></ul></li><li><span><a href=\"#Fancy-Indexing\" data-toc-modified-id=\"Fancy-Indexing-1.7\"><span class=\"toc-item-num\">1.7&nbsp;&nbsp;</span>Fancy Indexing</a></span><ul class=\"toc-item\"><li><span><a href=\"#Using-Boolean-Masks\" data-toc-modified-id=\"Using-Boolean-Masks-1.7.1\"><span class=\"toc-item-num\">1.7.1&nbsp;&nbsp;</span>Using Boolean Masks</a></span></li><li><span><a href=\"#Indexing-with-an-array-of-integers\" data-toc-modified-id=\"Indexing-with-an-array-of-integers-1.7.2\"><span class=\"toc-item-num\">1.7.2&nbsp;&nbsp;</span>Indexing with an array of integers</a></span></li></ul></li><li><span><a href=\"#Numpy-Help\" data-toc-modified-id=\"Numpy-Help-1.8\"><span class=\"toc-item-num\">1.8&nbsp;&nbsp;</span>Numpy Help</a></span><ul class=\"toc-item\"><li><span><a href=\"#Asking-For-Help\" data-toc-modified-id=\"Asking-For-Help-1.8.1\"><span class=\"toc-item-num\">1.8.1&nbsp;&nbsp;</span>Asking For Help</a></span></li></ul></li><li><span><a href=\"#Exercise-1\" data-toc-modified-id=\"Exercise-1-1.9\"><span class=\"toc-item-num\">1.9&nbsp;&nbsp;</span>Exercise 1</a></span></li><li><span><a href=\"#Numerical-operations-on-arrays\" data-toc-modified-id=\"Numerical-operations-on-arrays-1.10\"><span class=\"toc-item-num\">1.10&nbsp;&nbsp;</span>Numerical operations on arrays</a></span><ul class=\"toc-item\"><li><span><a href=\"#Elementwise-Operations\" data-toc-modified-id=\"Elementwise-Operations-1.10.1\"><span class=\"toc-item-num\">1.10.1&nbsp;&nbsp;</span>Elementwise Operations</a></span></li><li><span><a href=\"#Arithmetic-operates-elementwise\" data-toc-modified-id=\"Arithmetic-operates-elementwise-1.10.2\"><span class=\"toc-item-num\">1.10.2&nbsp;&nbsp;</span>Arithmetic operates elementwise</a></span></li><li><span><a href=\"#Other-operations\" data-toc-modified-id=\"Other-operations-1.10.3\"><span class=\"toc-item-num\">1.10.3&nbsp;&nbsp;</span>Other operations</a></span></li><li><span><a href=\"#Array-wise-comparisons\" data-toc-modified-id=\"Array-wise-comparisons-1.10.4\"><span class=\"toc-item-num\">1.10.4&nbsp;&nbsp;</span>Array-wise comparisons</a></span></li><li><span><a href=\"#Transcendental-functions\" data-toc-modified-id=\"Transcendental-functions-1.10.5\"><span class=\"toc-item-num\">1.10.5&nbsp;&nbsp;</span>Transcendental functions</a></span></li><li><span><a href=\"#Transposition\" data-toc-modified-id=\"Transposition-1.10.6\"><span class=\"toc-item-num\">1.10.6&nbsp;&nbsp;</span>Transposition</a></span></li></ul></li><li><span><a href=\"#Basic-reductions\" data-toc-modified-id=\"Basic-reductions-1.11\"><span class=\"toc-item-num\">1.11&nbsp;&nbsp;</span>Basic reductions</a></span><ul class=\"toc-item\"><li><span><a href=\"#Sum-by-rows-and-by-columns\" data-toc-modified-id=\"Sum-by-rows-and-by-columns-1.11.1\"><span class=\"toc-item-num\">1.11.1&nbsp;&nbsp;</span>Sum by rows and by columns</a></span></li><li><span><a href=\"#Extrema\" data-toc-modified-id=\"Extrema-1.11.2\"><span class=\"toc-item-num\">1.11.2&nbsp;&nbsp;</span>Extrema</a></span></li><li><span><a href=\"#Statistics\" data-toc-modified-id=\"Statistics-1.11.3\"><span class=\"toc-item-num\">1.11.3&nbsp;&nbsp;</span>Statistics</a></span></li><li><span><a href=\"#Array-shape-manipulation\" data-toc-modified-id=\"Array-shape-manipulation-1.11.4\"><span class=\"toc-item-num\">1.11.4&nbsp;&nbsp;</span>Array shape manipulation</a></span></li><li><span><a href=\"#Flattening\" data-toc-modified-id=\"Flattening-1.11.5\"><span class=\"toc-item-num\">1.11.5&nbsp;&nbsp;</span>Flattening</a></span></li><li><span><a href=\"#Reshaping\" data-toc-modified-id=\"Reshaping-1.11.6\"><span class=\"toc-item-num\">1.11.6&nbsp;&nbsp;</span>Reshaping</a></span></li><li><span><a href=\"#Sorting-data\" data-toc-modified-id=\"Sorting-data-1.11.7\"><span class=\"toc-item-num\">1.11.7&nbsp;&nbsp;</span>Sorting data</a></span></li><li><span><a href=\"#Rounding\" data-toc-modified-id=\"Rounding-1.11.8\"><span class=\"toc-item-num\">1.11.8&nbsp;&nbsp;</span>Rounding</a></span></li></ul></li><li><span><a href=\"#Advanced-operations\" data-toc-modified-id=\"Advanced-operations-1.12\"><span class=\"toc-item-num\">1.12&nbsp;&nbsp;</span>Advanced operations</a></span></li></ul></li></ul></div>"
   ]
  },
  {
   "cell_type": "markdown",
   "id": "49f51162",
   "metadata": {},
   "source": [
    "# NumPy: Creating and Manipulating Numerical Data"
   ]
  },
  {
   "cell_type": "markdown",
   "id": "7086d295",
   "metadata": {},
   "source": [
    "**NumPy**: is the core Python tool for performing numerical computations."
   ]
  },
  {
   "cell_type": "markdown",
   "id": "2a622b12",
   "metadata": {},
   "source": [
    "NumPy provides:  \n",
    "\n",
    "    - array oriented computing  \n",
    "\n",
    "    - multi-dimensional arrays  \n",
    "    :\n",
    "    - designed for scientific computation: useful linear algebra, Fourier transform, and random number capabilities\n",
    "    \n",
    "    - closer to hardware (efficiency)  "
   ]
  },
  {
   "cell_type": "markdown",
   "id": "c2ac423c",
   "metadata": {},
   "source": [
    "## Numpy Importing Conventions\n",
    "The recommended convention to import numpy is:"
   ]
  },
  {
   "cell_type": "code",
   "execution_count": 1,
   "id": "b74c3d02",
   "metadata": {},
   "outputs": [],
   "source": [
    "# Import Numpy\n",
    "import numpy as np"
   ]
  },
  {
   "cell_type": "code",
   "execution_count": 2,
   "id": "d1cd51ad",
   "metadata": {},
   "outputs": [],
   "source": [
    "# this is just to make the output look better\n",
    "np.set_printoptions(precision=3 , suppress= True) "
   ]
  },
  {
   "cell_type": "markdown",
   "id": "2af98a9f",
   "metadata": {},
   "source": [
    "## Creating Arrays"
   ]
  },
  {
   "cell_type": "markdown",
   "id": "dc0105af",
   "metadata": {},
   "source": [
    "### Manual construction of arrays"
   ]
  },
  {
   "cell_type": "code",
   "execution_count": 3,
   "id": "b2732c2b",
   "metadata": {},
   "outputs": [],
   "source": [
    "a = np.array([0, 1, 2, 3])"
   ]
  },
  {
   "cell_type": "code",
   "execution_count": 4,
   "id": "3b23606d",
   "metadata": {},
   "outputs": [
    {
     "data": {
      "text/plain": [
       "array([0, 1, 2, 3])"
      ]
     },
     "execution_count": 4,
     "metadata": {},
     "output_type": "execute_result"
    }
   ],
   "source": [
    "a"
   ]
  },
  {
   "cell_type": "code",
   "execution_count": null,
   "id": "837606ba",
   "metadata": {},
   "outputs": [],
   "source": [
    "# returns the shape of the array\n",
    "a.shape"
   ]
  },
  {
   "cell_type": "code",
   "execution_count": 5,
   "id": "27f92f6e",
   "metadata": {},
   "outputs": [
    {
     "data": {
      "text/plain": [
       "1"
      ]
     },
     "execution_count": 5,
     "metadata": {},
     "output_type": "execute_result"
    }
   ],
   "source": [
    "# returns no. of dimension\n",
    "a.ndim"
   ]
  },
  {
   "cell_type": "code",
   "execution_count": 6,
   "id": "c1ad39a4",
   "metadata": {},
   "outputs": [
    {
     "data": {
      "text/plain": [
       "numpy.ndarray"
      ]
     },
     "execution_count": 6,
     "metadata": {},
     "output_type": "execute_result"
    }
   ],
   "source": [
    "# returns the data type\n",
    "type(a)"
   ]
  },
  {
   "cell_type": "markdown",
   "id": "f9a42249",
   "metadata": {},
   "source": [
    "### 2-Dimensional Arrays"
   ]
  },
  {
   "cell_type": "code",
   "execution_count": 7,
   "id": "4b97b39a",
   "metadata": {},
   "outputs": [],
   "source": [
    "# 2 x 3 array\n",
    "b = np.array([[0, 1, 2], [3, 4, 5]])    "
   ]
  },
  {
   "cell_type": "code",
   "execution_count": 8,
   "id": "97e40f97",
   "metadata": {},
   "outputs": [
    {
     "data": {
      "text/plain": [
       "array([[0, 1, 2],\n",
       "       [3, 4, 5]])"
      ]
     },
     "execution_count": 8,
     "metadata": {},
     "output_type": "execute_result"
    }
   ],
   "source": [
    "b"
   ]
  },
  {
   "cell_type": "code",
   "execution_count": 9,
   "id": "67709163",
   "metadata": {},
   "outputs": [
    {
     "data": {
      "text/plain": [
       "2"
      ]
     },
     "execution_count": 9,
     "metadata": {},
     "output_type": "execute_result"
    }
   ],
   "source": [
    "# returns no. of dimension\n",
    "b.ndim"
   ]
  },
  {
   "cell_type": "code",
   "execution_count": 10,
   "id": "d7ee25f4",
   "metadata": {},
   "outputs": [
    {
     "data": {
      "text/plain": [
       "(2, 3)"
      ]
     },
     "execution_count": 10,
     "metadata": {},
     "output_type": "execute_result"
    }
   ],
   "source": [
    "# returns the shape of the array\n",
    "b.shape"
   ]
  },
  {
   "cell_type": "code",
   "execution_count": 11,
   "id": "ce65afef",
   "metadata": {},
   "outputs": [
    {
     "data": {
      "text/plain": [
       "2"
      ]
     },
     "execution_count": 11,
     "metadata": {},
     "output_type": "execute_result"
    }
   ],
   "source": [
    "# returns the size of the first dimension\n",
    "len(b)     "
   ]
  },
  {
   "cell_type": "markdown",
   "id": "2d61850e",
   "metadata": {},
   "source": [
    "### 3-Dimensional Arrays"
   ]
  },
  {
   "cell_type": "code",
   "execution_count": 18,
   "id": "0002daf7",
   "metadata": {},
   "outputs": [],
   "source": [
    "c = np.array([[[1,1,2], [2,3,3]], [[1,1,1], [1,1,1]], [[1,1,1], [1,1,1]]])"
   ]
  },
  {
   "cell_type": "code",
   "execution_count": 19,
   "id": "0cb3fd5f",
   "metadata": {},
   "outputs": [
    {
     "data": {
      "text/plain": [
       "array([[[1, 1, 2],\n",
       "        [2, 3, 3]],\n",
       "\n",
       "       [[1, 1, 1],\n",
       "        [1, 1, 1]],\n",
       "\n",
       "       [[1, 1, 1],\n",
       "        [1, 1, 1]]])"
      ]
     },
     "execution_count": 19,
     "metadata": {},
     "output_type": "execute_result"
    }
   ],
   "source": [
    "c"
   ]
  },
  {
   "cell_type": "code",
   "execution_count": 20,
   "id": "924b3e77",
   "metadata": {},
   "outputs": [
    {
     "data": {
      "text/plain": [
       "3"
      ]
     },
     "execution_count": 20,
     "metadata": {},
     "output_type": "execute_result"
    }
   ],
   "source": [
    "# returns no. of dimension\n",
    "c.ndim"
   ]
  },
  {
   "cell_type": "code",
   "execution_count": 21,
   "id": "eefab8e0",
   "metadata": {},
   "outputs": [
    {
     "data": {
      "text/plain": [
       "(3, 2, 3)"
      ]
     },
     "execution_count": 21,
     "metadata": {},
     "output_type": "execute_result"
    }
   ],
   "source": [
    "# returns the shape of the array\n",
    "c.shape"
   ]
  },
  {
   "cell_type": "code",
   "execution_count": 22,
   "id": "e0c98998",
   "metadata": {},
   "outputs": [
    {
     "data": {
      "text/plain": [
       "3"
      ]
     },
     "execution_count": 22,
     "metadata": {},
     "output_type": "execute_result"
    }
   ],
   "source": [
    "# returns the size of the first dimension\n",
    "len(c)    "
   ]
  },
  {
   "cell_type": "markdown",
   "id": "9fd9d549",
   "metadata": {},
   "source": [
    "## Functions for creating arrays"
   ]
  },
  {
   "cell_type": "markdown",
   "id": "5b44c280",
   "metadata": {},
   "source": [
    "### Evenly spaced arrays:"
   ]
  },
  {
   "cell_type": "code",
   "execution_count": 23,
   "id": "7e63f372",
   "metadata": {},
   "outputs": [
    {
     "data": {
      "text/plain": [
       "array([0, 1, 2, 3, 4, 5, 6, 7, 8, 9])"
      ]
     },
     "execution_count": 23,
     "metadata": {},
     "output_type": "execute_result"
    }
   ],
   "source": [
    "a = np.arange(10) # 0 .. n-1  (!)\n",
    "a"
   ]
  },
  {
   "cell_type": "code",
   "execution_count": 26,
   "id": "3a0b83ba",
   "metadata": {},
   "outputs": [
    {
     "data": {
      "text/plain": [
       "array([1, 3, 5, 7])"
      ]
     },
     "execution_count": 26,
     "metadata": {},
     "output_type": "execute_result"
    }
   ],
   "source": [
    "b = np.arange(1, 9, 2) # start, end (exclusive), step\n",
    "b"
   ]
  },
  {
   "cell_type": "code",
   "execution_count": 29,
   "id": "53e6c610",
   "metadata": {},
   "outputs": [
    {
     "data": {
      "text/plain": [
       "array([0. , 0.2, 0.4, 0.6, 0.8, 1. ])"
      ]
     },
     "execution_count": 29,
     "metadata": {},
     "output_type": "execute_result"
    }
   ],
   "source": [
    "c = np.linspace(0, 1, 6)   # start, end, num-points\n",
    "c"
   ]
  },
  {
   "cell_type": "code",
   "execution_count": 30,
   "id": "efcbac10",
   "metadata": {},
   "outputs": [
    {
     "data": {
      "text/plain": [
       "array([0.   , 0.167, 0.333, 0.5  , 0.667, 0.833])"
      ]
     },
     "execution_count": 30,
     "metadata": {},
     "output_type": "execute_result"
    }
   ],
   "source": [
    "d = np.linspace(0, 1, 6, endpoint=False)\n",
    "d"
   ]
  },
  {
   "cell_type": "markdown",
   "id": "abc3f983",
   "metadata": {},
   "source": [
    "### Common Arrays"
   ]
  },
  {
   "cell_type": "markdown",
   "id": "11ee6e1f",
   "metadata": {},
   "source": [
    "### Ones"
   ]
  },
  {
   "cell_type": "code",
   "execution_count": 32,
   "id": "4cde1adf",
   "metadata": {},
   "outputs": [
    {
     "data": {
      "text/plain": [
       "array([[1., 1., 1.],\n",
       "       [1., 1., 1.],\n",
       "       [1., 1., 1.],\n",
       "       [1., 1., 1.]])"
      ]
     },
     "execution_count": 32,
     "metadata": {},
     "output_type": "execute_result"
    }
   ],
   "source": [
    "a = np.ones((4, 3)) \n",
    "a"
   ]
  },
  {
   "cell_type": "markdown",
   "id": "137fd80c",
   "metadata": {},
   "source": [
    "### Zeros"
   ]
  },
  {
   "cell_type": "code",
   "execution_count": 33,
   "id": "4f5bb524",
   "metadata": {},
   "outputs": [
    {
     "data": {
      "text/plain": [
       "array([[0., 0.],\n",
       "       [0., 0.]])"
      ]
     },
     "execution_count": 33,
     "metadata": {},
     "output_type": "execute_result"
    }
   ],
   "source": [
    "b = np.zeros((2, 2))\n",
    "b"
   ]
  },
  {
   "cell_type": "markdown",
   "id": "91597a5a",
   "metadata": {},
   "source": [
    "### Diagonal Matrix"
   ]
  },
  {
   "cell_type": "code",
   "execution_count": 34,
   "id": "3b90b644",
   "metadata": {},
   "outputs": [
    {
     "data": {
      "text/plain": [
       "array([[1., 0., 0.],\n",
       "       [0., 1., 0.],\n",
       "       [0., 0., 1.]])"
      ]
     },
     "execution_count": 34,
     "metadata": {},
     "output_type": "execute_result"
    }
   ],
   "source": [
    "c = np.eye(3)\n",
    "c"
   ]
  },
  {
   "cell_type": "code",
   "execution_count": 35,
   "id": "5aaf1839",
   "metadata": {},
   "outputs": [
    {
     "data": {
      "text/plain": [
       "array([[1, 0, 0, 0],\n",
       "       [0, 2, 0, 0],\n",
       "       [0, 0, 3, 0],\n",
       "       [0, 0, 0, 4]])"
      ]
     },
     "execution_count": 35,
     "metadata": {},
     "output_type": "execute_result"
    }
   ],
   "source": [
    "d = np.diag(np.array([1, 2, 3, 4]))\n",
    "d"
   ]
  },
  {
   "cell_type": "code",
   "execution_count": 36,
   "id": "19daeb80",
   "metadata": {},
   "outputs": [
    {
     "data": {
      "text/plain": [
       "array([1, 2, 3, 4])"
      ]
     },
     "execution_count": 36,
     "metadata": {},
     "output_type": "execute_result"
    }
   ],
   "source": [
    "e = np.diag(d)\n",
    "e"
   ]
  },
  {
   "cell_type": "markdown",
   "id": "8381622a",
   "metadata": {},
   "source": [
    "## Random numbers"
   ]
  },
  {
   "cell_type": "markdown",
   "id": "73fae739",
   "metadata": {},
   "source": [
    "### Uniform"
   ]
  },
  {
   "cell_type": "code",
   "execution_count": 38,
   "id": "d0ecf8cd",
   "metadata": {},
   "outputs": [
    {
     "data": {
      "text/plain": [
       "array([0.001, 0.817, 0.992, 0.661])"
      ]
     },
     "execution_count": 38,
     "metadata": {},
     "output_type": "execute_result"
    }
   ],
   "source": [
    "a = np.random.rand(4)       # uniform in [0, 1]\n",
    "a  "
   ]
  },
  {
   "cell_type": "markdown",
   "id": "28f06809",
   "metadata": {},
   "source": [
    "### Gaussian"
   ]
  },
  {
   "cell_type": "code",
   "execution_count": 39,
   "id": "cefbcc21",
   "metadata": {},
   "outputs": [
    {
     "data": {
      "text/plain": [
       "array([ 1.077, -0.3  , -0.459,  0.32 ])"
      ]
     },
     "execution_count": 39,
     "metadata": {},
     "output_type": "execute_result"
    }
   ],
   "source": [
    "b = np.random.randn(4)      \n",
    "b  "
   ]
  },
  {
   "cell_type": "markdown",
   "id": "1cfd16ae",
   "metadata": {},
   "source": [
    "## Basic Data Types"
   ]
  },
  {
   "cell_type": "markdown",
   "id": "c06ef855",
   "metadata": {},
   "source": [
    "- NumPy auto-detects the data-type from the input.  \n",
    "- In some instances, array elements are displayed with a trailing dot (e.g. 2. vs 2)"
   ]
  },
  {
   "cell_type": "markdown",
   "id": "e0e32120",
   "metadata": {},
   "source": [
    "### Intgers"
   ]
  },
  {
   "cell_type": "code",
   "execution_count": 40,
   "id": "fd833cf5",
   "metadata": {},
   "outputs": [
    {
     "data": {
      "text/plain": [
       "dtype('int64')"
      ]
     },
     "execution_count": 40,
     "metadata": {},
     "output_type": "execute_result"
    }
   ],
   "source": [
    "a = np.array([1, 2, 3])\n",
    "a.dtype"
   ]
  },
  {
   "cell_type": "markdown",
   "id": "08912a1f",
   "metadata": {},
   "source": [
    "### Floats"
   ]
  },
  {
   "cell_type": "code",
   "execution_count": 41,
   "id": "5eff9c57",
   "metadata": {},
   "outputs": [
    {
     "data": {
      "text/plain": [
       "dtype('float64')"
      ]
     },
     "execution_count": 41,
     "metadata": {},
     "output_type": "execute_result"
    }
   ],
   "source": [
    "b = np.array([1., 2., 3.])\n",
    "b.dtype"
   ]
  },
  {
   "cell_type": "markdown",
   "id": "62d5060e",
   "metadata": {},
   "source": [
    "### Explicitly specify the data-type"
   ]
  },
  {
   "cell_type": "code",
   "execution_count": 42,
   "id": "836a8102",
   "metadata": {},
   "outputs": [
    {
     "data": {
      "text/plain": [
       "dtype('float64')"
      ]
     },
     "execution_count": 42,
     "metadata": {},
     "output_type": "execute_result"
    }
   ],
   "source": [
    "c = np.array([1, 2, 3], dtype=float)\n",
    "c.dtype"
   ]
  },
  {
   "cell_type": "markdown",
   "id": "56c2a6ff",
   "metadata": {},
   "source": [
    "### Other Data Types"
   ]
  },
  {
   "cell_type": "markdown",
   "id": "f3e4c693",
   "metadata": {},
   "source": [
    "### Complex Number "
   ]
  },
  {
   "cell_type": "code",
   "execution_count": 43,
   "id": "852bf582",
   "metadata": {},
   "outputs": [
    {
     "data": {
      "text/plain": [
       "dtype('complex128')"
      ]
     },
     "execution_count": 43,
     "metadata": {},
     "output_type": "execute_result"
    }
   ],
   "source": [
    "d = np.array([1+2j, 3+4j, 5+6*1j])\n",
    "d.dtype"
   ]
  },
  {
   "cell_type": "markdown",
   "id": "b0fd3255",
   "metadata": {},
   "source": [
    "### Boolean Number "
   ]
  },
  {
   "cell_type": "code",
   "execution_count": 44,
   "id": "966ccbfe",
   "metadata": {},
   "outputs": [
    {
     "data": {
      "text/plain": [
       "dtype('bool')"
      ]
     },
     "execution_count": 44,
     "metadata": {},
     "output_type": "execute_result"
    }
   ],
   "source": [
    "e = np.array([True, False, False, True])\n",
    "e.dtype"
   ]
  },
  {
   "cell_type": "markdown",
   "id": "c07f7e30",
   "metadata": {},
   "source": [
    "### String"
   ]
  },
  {
   "cell_type": "code",
   "execution_count": 46,
   "id": "ecfe177e",
   "metadata": {},
   "outputs": [
    {
     "data": {
      "text/plain": [
       "dtype('<U9')"
      ]
     },
     "execution_count": 46,
     "metadata": {},
     "output_type": "execute_result"
    }
   ],
   "source": [
    "f = np.array(['Bonjour', 'Hello', 'Hallooooo'])\n",
    "f.dtype     "
   ]
  },
  {
   "cell_type": "markdown",
   "id": "cb4e0774",
   "metadata": {},
   "source": [
    "## Indexing and Slicing"
   ]
  },
  {
   "cell_type": "markdown",
   "id": "fb747b12",
   "metadata": {},
   "source": [
    "Indices begin at 0"
   ]
  },
  {
   "cell_type": "code",
   "execution_count": 47,
   "id": "89c4085f",
   "metadata": {},
   "outputs": [
    {
     "data": {
      "text/plain": [
       "array([0, 1, 2, 3, 4, 5, 6, 7, 8, 9])"
      ]
     },
     "execution_count": 47,
     "metadata": {},
     "output_type": "execute_result"
    }
   ],
   "source": [
    "a = np.arange(10)\n",
    "a"
   ]
  },
  {
   "cell_type": "code",
   "execution_count": 48,
   "id": "eec16af3",
   "metadata": {},
   "outputs": [
    {
     "data": {
      "text/plain": [
       "0"
      ]
     },
     "execution_count": 48,
     "metadata": {},
     "output_type": "execute_result"
    }
   ],
   "source": [
    "a[0]"
   ]
  },
  {
   "cell_type": "code",
   "execution_count": 49,
   "id": "3b478d9c",
   "metadata": {},
   "outputs": [
    {
     "data": {
      "text/plain": [
       "2"
      ]
     },
     "execution_count": 49,
     "metadata": {},
     "output_type": "execute_result"
    }
   ],
   "source": [
    "a[2]"
   ]
  },
  {
   "cell_type": "code",
   "execution_count": 50,
   "id": "793010b0",
   "metadata": {},
   "outputs": [
    {
     "data": {
      "text/plain": [
       "9"
      ]
     },
     "execution_count": 50,
     "metadata": {},
     "output_type": "execute_result"
    }
   ],
   "source": [
    "a[-1]"
   ]
  },
  {
   "cell_type": "markdown",
   "id": "4b285ec1",
   "metadata": {},
   "source": [
    "### Reversing a sequence"
   ]
  },
  {
   "cell_type": "code",
   "execution_count": 55,
   "id": "a33a1c2d",
   "metadata": {},
   "outputs": [
    {
     "data": {
      "text/plain": [
       "array([9, 8, 7, 6, 5, 4, 3, 2, 1, 0])"
      ]
     },
     "execution_count": 55,
     "metadata": {},
     "output_type": "execute_result"
    }
   ],
   "source": [
    "a[::-1]"
   ]
  },
  {
   "cell_type": "markdown",
   "id": "1b28c61f",
   "metadata": {},
   "source": [
    "### Indexing Multidimensional Arrays"
   ]
  },
  {
   "cell_type": "markdown",
   "id": "ca7d114a",
   "metadata": {},
   "source": [
    "- In 2D, the first dimension corresponds to rows, the second to columns.\n",
    "- a[0] is interpreted by taking all elements in the unspecified dimensions."
   ]
  },
  {
   "cell_type": "code",
   "execution_count": 56,
   "id": "930e8e6f",
   "metadata": {},
   "outputs": [
    {
     "data": {
      "text/plain": [
       "array([[0, 0, 0],\n",
       "       [0, 1, 0],\n",
       "       [0, 0, 2]])"
      ]
     },
     "execution_count": 56,
     "metadata": {},
     "output_type": "execute_result"
    }
   ],
   "source": [
    "a = np.diag(np.arange(3))\n",
    "a"
   ]
  },
  {
   "cell_type": "code",
   "execution_count": 60,
   "id": "d02bd3ae",
   "metadata": {},
   "outputs": [
    {
     "data": {
      "text/plain": [
       "2"
      ]
     },
     "execution_count": 60,
     "metadata": {},
     "output_type": "execute_result"
    }
   ],
   "source": [
    "a[2, 2]"
   ]
  },
  {
   "cell_type": "code",
   "execution_count": 61,
   "id": "582a6f37",
   "metadata": {},
   "outputs": [],
   "source": [
    "a[2, 1] = 10 # third line, second column"
   ]
  },
  {
   "cell_type": "code",
   "execution_count": 62,
   "id": "d3b2f451",
   "metadata": {},
   "outputs": [
    {
     "data": {
      "text/plain": [
       "array([[ 0,  0,  0],\n",
       "       [ 0,  1,  0],\n",
       "       [ 0, 10,  2]])"
      ]
     },
     "execution_count": 62,
     "metadata": {},
     "output_type": "execute_result"
    }
   ],
   "source": [
    "a"
   ]
  },
  {
   "cell_type": "markdown",
   "id": "955679c6",
   "metadata": {},
   "source": [
    "### Indexing by Row"
   ]
  },
  {
   "cell_type": "code",
   "execution_count": 63,
   "id": "5f324915",
   "metadata": {},
   "outputs": [
    {
     "data": {
      "text/plain": [
       "array([0, 0, 0])"
      ]
     },
     "execution_count": 63,
     "metadata": {},
     "output_type": "execute_result"
    }
   ],
   "source": [
    "a[0]"
   ]
  },
  {
   "cell_type": "code",
   "execution_count": 64,
   "id": "03c3e9ec",
   "metadata": {},
   "outputs": [
    {
     "data": {
      "text/plain": [
       "array([0, 1, 0])"
      ]
     },
     "execution_count": 64,
     "metadata": {},
     "output_type": "execute_result"
    }
   ],
   "source": [
    "a[1]"
   ]
  },
  {
   "cell_type": "markdown",
   "id": "17dd7b49",
   "metadata": {},
   "source": [
    "### Indexing by Column"
   ]
  },
  {
   "cell_type": "code",
   "execution_count": 66,
   "id": "99cfe5bc",
   "metadata": {},
   "outputs": [
    {
     "data": {
      "text/plain": [
       "array([ 0,  1, 10])"
      ]
     },
     "execution_count": 66,
     "metadata": {},
     "output_type": "execute_result"
    }
   ],
   "source": [
    "a[:,1]"
   ]
  },
  {
   "cell_type": "markdown",
   "id": "2b602d11",
   "metadata": {},
   "source": [
    "### Slicing"
   ]
  },
  {
   "cell_type": "code",
   "execution_count": 67,
   "id": "dd32d54d",
   "metadata": {},
   "outputs": [
    {
     "data": {
      "text/plain": [
       "array([0, 1, 2, 3, 4, 5, 6, 7, 8, 9])"
      ]
     },
     "execution_count": 67,
     "metadata": {},
     "output_type": "execute_result"
    }
   ],
   "source": [
    "a = np.arange(10)\n",
    "a "
   ]
  },
  {
   "cell_type": "code",
   "execution_count": 68,
   "id": "3e0a5820",
   "metadata": {},
   "outputs": [
    {
     "data": {
      "text/plain": [
       "array([0, 1, 2, 3])"
      ]
     },
     "execution_count": 68,
     "metadata": {},
     "output_type": "execute_result"
    }
   ],
   "source": [
    "a[:4]"
   ]
  },
  {
   "cell_type": "code",
   "execution_count": 69,
   "id": "1a60723d",
   "metadata": {},
   "outputs": [
    {
     "data": {
      "text/plain": [
       "array([1, 2])"
      ]
     },
     "execution_count": 69,
     "metadata": {},
     "output_type": "execute_result"
    }
   ],
   "source": [
    "a[1:3]"
   ]
  },
  {
   "cell_type": "code",
   "execution_count": 70,
   "id": "429d2b4c",
   "metadata": {},
   "outputs": [
    {
     "data": {
      "text/plain": [
       "array([0, 2, 4, 6, 8])"
      ]
     },
     "execution_count": 70,
     "metadata": {},
     "output_type": "execute_result"
    }
   ],
   "source": [
    "a[::2]"
   ]
  },
  {
   "cell_type": "code",
   "execution_count": 71,
   "id": "f6e306b5",
   "metadata": {},
   "outputs": [
    {
     "data": {
      "text/plain": [
       "array([3, 4, 5, 6, 7, 8, 9])"
      ]
     },
     "execution_count": 71,
     "metadata": {},
     "output_type": "execute_result"
    }
   ],
   "source": [
    "a[3:]"
   ]
  },
  {
   "cell_type": "markdown",
   "id": "59e32a90",
   "metadata": {},
   "source": [
    "### Combine Assignment and Slicing"
   ]
  },
  {
   "cell_type": "code",
   "execution_count": 72,
   "id": "f935ceb6",
   "metadata": {},
   "outputs": [
    {
     "data": {
      "text/plain": [
       "array([0, 1, 2, 3, 4, 5, 6, 7, 8, 9])"
      ]
     },
     "execution_count": 72,
     "metadata": {},
     "output_type": "execute_result"
    }
   ],
   "source": [
    "a = np.arange(10)\n",
    "a"
   ]
  },
  {
   "cell_type": "code",
   "execution_count": 73,
   "id": "a39c7883",
   "metadata": {},
   "outputs": [
    {
     "data": {
      "text/plain": [
       "array([ 0,  1,  2,  3,  4, 10, 10, 10, 10, 10])"
      ]
     },
     "execution_count": 73,
     "metadata": {},
     "output_type": "execute_result"
    }
   ],
   "source": [
    "a[5:] = 10\n",
    "a"
   ]
  },
  {
   "cell_type": "code",
   "execution_count": 74,
   "id": "cfbda2b3",
   "metadata": {},
   "outputs": [
    {
     "data": {
      "text/plain": [
       "array([0, 1, 2, 3, 4])"
      ]
     },
     "execution_count": 74,
     "metadata": {},
     "output_type": "execute_result"
    }
   ],
   "source": [
    "b = np.arange(5)\n",
    "b"
   ]
  },
  {
   "cell_type": "markdown",
   "id": "07587fb8",
   "metadata": {},
   "source": [
    "## Fancy Indexing"
   ]
  },
  {
   "cell_type": "markdown",
   "id": "438febfa",
   "metadata": {},
   "source": [
    "NumPy arrays can be indexed with slices, but also with boolean or integer arrays (masks). This method is called fancy indexing."
   ]
  },
  {
   "cell_type": "markdown",
   "id": "9662509d",
   "metadata": {},
   "source": [
    "### Using Boolean Masks"
   ]
  },
  {
   "cell_type": "code",
   "execution_count": 75,
   "id": "3d0d271e",
   "metadata": {},
   "outputs": [
    {
     "data": {
      "text/plain": [
       "array([10,  3,  8,  0, 19, 10, 11,  9, 10,  6,  0, 20, 12,  7, 14])"
      ]
     },
     "execution_count": 75,
     "metadata": {},
     "output_type": "execute_result"
    }
   ],
   "source": [
    "np.random.seed(3)\n",
    "a = np.random.randint(0, 21, 15)\n",
    "a"
   ]
  },
  {
   "cell_type": "code",
   "execution_count": 76,
   "id": "95113a8e",
   "metadata": {},
   "outputs": [
    {
     "data": {
      "text/plain": [
       "array([False,  True, False,  True, False, False, False,  True, False,\n",
       "        True,  True, False,  True, False, False])"
      ]
     },
     "execution_count": 76,
     "metadata": {},
     "output_type": "execute_result"
    }
   ],
   "source": [
    "(a % 3 == 0)"
   ]
  },
  {
   "cell_type": "code",
   "execution_count": 77,
   "id": "e9a72a67",
   "metadata": {},
   "outputs": [
    {
     "data": {
      "text/plain": [
       "array([False,  True, False,  True, False, False, False,  True, False,\n",
       "        True,  True, False,  True, False, False])"
      ]
     },
     "execution_count": 77,
     "metadata": {},
     "output_type": "execute_result"
    }
   ],
   "source": [
    "mask = (a % 3 == 0)\n",
    "mask"
   ]
  },
  {
   "cell_type": "code",
   "execution_count": 78,
   "id": "807d281d",
   "metadata": {},
   "outputs": [
    {
     "data": {
      "text/plain": [
       "array([ 3,  0,  9,  6,  0, 12])"
      ]
     },
     "execution_count": 78,
     "metadata": {},
     "output_type": "execute_result"
    }
   ],
   "source": [
    "extract_from_a = a[mask] \n",
    "extract_from_a           "
   ]
  },
  {
   "cell_type": "code",
   "execution_count": 79,
   "id": "dfb0cdc5",
   "metadata": {},
   "outputs": [
    {
     "data": {
      "text/plain": [
       "array([10, -1,  8, -1, 19, 10, 11, -1, 10, -1, -1, 20, -1,  7, 14])"
      ]
     },
     "execution_count": 79,
     "metadata": {},
     "output_type": "execute_result"
    }
   ],
   "source": [
    "a[a % 3 == 0] = -1\n",
    "a"
   ]
  },
  {
   "cell_type": "markdown",
   "id": "97434282",
   "metadata": {},
   "source": [
    "### Indexing with an array of integers"
   ]
  },
  {
   "cell_type": "code",
   "execution_count": 83,
   "id": "d7f40be5",
   "metadata": {},
   "outputs": [
    {
     "data": {
      "text/plain": [
       "array([ 0, 10, 20, 30, 40, 50, 60, 70, 80, 90])"
      ]
     },
     "execution_count": 83,
     "metadata": {},
     "output_type": "execute_result"
    }
   ],
   "source": [
    "a = np.arange(0, 100, 10)\n",
    "a"
   ]
  },
  {
   "cell_type": "markdown",
   "id": "20a4ede6",
   "metadata": {},
   "source": [
    "Indexing can be done with an array of integers, where the same index is repeated several time:"
   ]
  },
  {
   "cell_type": "code",
   "execution_count": 81,
   "id": "b9064439",
   "metadata": {},
   "outputs": [
    {
     "data": {
      "text/plain": [
       "array([20, 30, 20, 40, 20])"
      ]
     },
     "execution_count": 81,
     "metadata": {},
     "output_type": "execute_result"
    }
   ],
   "source": [
    "a[[2, 3, 2, 4, 2]] "
   ]
  },
  {
   "cell_type": "code",
   "execution_count": 84,
   "id": "065817af",
   "metadata": {},
   "outputs": [
    {
     "data": {
      "text/plain": [
       "array([   0,   10,   20,   30,   40,   50,   60, -100,   80, -100])"
      ]
     },
     "execution_count": 84,
     "metadata": {},
     "output_type": "execute_result"
    }
   ],
   "source": [
    "a[[9, 7]] = -100\n",
    "a"
   ]
  },
  {
   "cell_type": "markdown",
   "id": "f4a04034",
   "metadata": {},
   "source": [
    "## Numpy Help"
   ]
  },
  {
   "cell_type": "markdown",
   "id": "7a7ed4bd",
   "metadata": {},
   "source": [
    "On the web: https://numpy.org/doc/"
   ]
  },
  {
   "cell_type": "markdown",
   "id": "258f92d9",
   "metadata": {},
   "source": [
    "### Asking For Help"
   ]
  },
  {
   "cell_type": "code",
   "execution_count": 85,
   "id": "d35f81c1",
   "metadata": {},
   "outputs": [],
   "source": [
    "np.add?"
   ]
  },
  {
   "cell_type": "code",
   "execution_count": 86,
   "id": "a0aee272",
   "metadata": {},
   "outputs": [],
   "source": [
    "np.array?"
   ]
  },
  {
   "cell_type": "code",
   "execution_count": null,
   "id": "ac8bca81",
   "metadata": {},
   "outputs": [],
   "source": [
    "np.arr*?"
   ]
  },
  {
   "cell_type": "code",
   "execution_count": null,
   "id": "ee05d32d",
   "metadata": {},
   "outputs": [],
   "source": [
    "np.con*?"
   ]
  },
  {
   "cell_type": "markdown",
   "id": "0fe7e3c9",
   "metadata": {},
   "source": [
    "## Exercise 1\n",
    "\n",
    "1) Create a simple one, two, and three  dimensional array.  \n",
    "2) Use the functions len(), numpy.shape() on these arrays.  \n",
    "3) Experiment with arange, linspace, ones, zeros, eye and diag.   \n",
    "4) Create different kinds of arrays with random numbers.  \n",
    "5 Look at the function `np.empty`. What does it do? When might this be useful?  "
   ]
  },
  {
   "cell_type": "markdown",
   "id": "b92d59f1",
   "metadata": {},
   "source": [
    "## Numerical operations on arrays"
   ]
  },
  {
   "cell_type": "markdown",
   "id": "c863e878",
   "metadata": {},
   "source": [
    "### Elementwise Operations"
   ]
  },
  {
   "cell_type": "code",
   "execution_count": 87,
   "id": "0dba8703",
   "metadata": {},
   "outputs": [
    {
     "data": {
      "text/plain": [
       "array([1, 2, 3, 4])"
      ]
     },
     "execution_count": 87,
     "metadata": {},
     "output_type": "execute_result"
    }
   ],
   "source": [
    "a = np.array([1, 2, 3, 4])\n",
    "a"
   ]
  },
  {
   "cell_type": "code",
   "execution_count": 88,
   "id": "b08d99b5",
   "metadata": {},
   "outputs": [
    {
     "data": {
      "text/plain": [
       "array([2, 3, 4, 5])"
      ]
     },
     "execution_count": 88,
     "metadata": {},
     "output_type": "execute_result"
    }
   ],
   "source": [
    "a + 1"
   ]
  },
  {
   "cell_type": "code",
   "execution_count": 89,
   "id": "a0bca162",
   "metadata": {},
   "outputs": [
    {
     "data": {
      "text/plain": [
       "array([ 2,  4,  8, 16])"
      ]
     },
     "execution_count": 89,
     "metadata": {},
     "output_type": "execute_result"
    }
   ],
   "source": [
    "2**a"
   ]
  },
  {
   "cell_type": "markdown",
   "id": "866ae442",
   "metadata": {},
   "source": [
    "### Arithmetic operates elementwise"
   ]
  },
  {
   "cell_type": "code",
   "execution_count": 90,
   "id": "6911a44e",
   "metadata": {},
   "outputs": [
    {
     "data": {
      "text/plain": [
       "array([2., 2., 2., 2.])"
      ]
     },
     "execution_count": 90,
     "metadata": {},
     "output_type": "execute_result"
    }
   ],
   "source": [
    "b = np.ones(4) + 1\n",
    "b"
   ]
  },
  {
   "cell_type": "code",
   "execution_count": 91,
   "id": "756e2ea2",
   "metadata": {},
   "outputs": [
    {
     "data": {
      "text/plain": [
       "array([-1.,  0.,  1.,  2.])"
      ]
     },
     "execution_count": 91,
     "metadata": {},
     "output_type": "execute_result"
    }
   ],
   "source": [
    "a - b"
   ]
  },
  {
   "cell_type": "code",
   "execution_count": 92,
   "id": "191c968d",
   "metadata": {},
   "outputs": [
    {
     "data": {
      "text/plain": [
       "array([2., 4., 6., 8.])"
      ]
     },
     "execution_count": 92,
     "metadata": {},
     "output_type": "execute_result"
    }
   ],
   "source": [
    "a * b"
   ]
  },
  {
   "cell_type": "markdown",
   "id": "f739e91d",
   "metadata": {},
   "source": [
    "### Other operations"
   ]
  },
  {
   "cell_type": "code",
   "execution_count": 93,
   "id": "88c29530",
   "metadata": {},
   "outputs": [],
   "source": [
    "a = np.array([1, 2, 3, 4])\n",
    "b = np.array([4, 2, 2, 4])"
   ]
  },
  {
   "cell_type": "code",
   "execution_count": 94,
   "id": "c6511b41",
   "metadata": {},
   "outputs": [
    {
     "data": {
      "text/plain": [
       "array([False,  True, False,  True])"
      ]
     },
     "execution_count": 94,
     "metadata": {},
     "output_type": "execute_result"
    }
   ],
   "source": [
    "a == b"
   ]
  },
  {
   "cell_type": "code",
   "execution_count": 95,
   "id": "6db3af78",
   "metadata": {},
   "outputs": [
    {
     "data": {
      "text/plain": [
       "array([False, False,  True, False])"
      ]
     },
     "execution_count": 95,
     "metadata": {},
     "output_type": "execute_result"
    }
   ],
   "source": [
    "a > b"
   ]
  },
  {
   "cell_type": "markdown",
   "id": "07fe90bf",
   "metadata": {},
   "source": [
    "### Array-wise comparisons"
   ]
  },
  {
   "cell_type": "code",
   "execution_count": 98,
   "id": "7bde09b7",
   "metadata": {},
   "outputs": [],
   "source": [
    "a = np.array([1, 1, 0, 0], dtype=bool)\n",
    "b = np.array([1, 0, 1, 0], dtype=bool)"
   ]
  },
  {
   "cell_type": "code",
   "execution_count": 99,
   "id": "06efb16c",
   "metadata": {},
   "outputs": [
    {
     "data": {
      "text/plain": [
       "array([ True,  True,  True, False])"
      ]
     },
     "execution_count": 99,
     "metadata": {},
     "output_type": "execute_result"
    }
   ],
   "source": [
    "np.logical_or(a, b)"
   ]
  },
  {
   "cell_type": "code",
   "execution_count": 100,
   "id": "9d7f63ea",
   "metadata": {},
   "outputs": [
    {
     "data": {
      "text/plain": [
       "array([ True, False, False, False])"
      ]
     },
     "execution_count": 100,
     "metadata": {},
     "output_type": "execute_result"
    }
   ],
   "source": [
    "np.logical_and(a, b)"
   ]
  },
  {
   "cell_type": "markdown",
   "id": "8dd2f3d2",
   "metadata": {},
   "source": [
    "### Transcendental functions"
   ]
  },
  {
   "cell_type": "code",
   "execution_count": 101,
   "id": "e04c0d91",
   "metadata": {},
   "outputs": [],
   "source": [
    "a = np.arange(5)"
   ]
  },
  {
   "cell_type": "code",
   "execution_count": 102,
   "id": "3bea5d87",
   "metadata": {},
   "outputs": [
    {
     "data": {
      "text/plain": [
       "array([ 0.   ,  0.841,  0.909,  0.141, -0.757])"
      ]
     },
     "execution_count": 102,
     "metadata": {},
     "output_type": "execute_result"
    }
   ],
   "source": [
    "np.sin(a)"
   ]
  },
  {
   "cell_type": "code",
   "execution_count": 103,
   "id": "ae77c2b0",
   "metadata": {},
   "outputs": [
    {
     "data": {
      "text/plain": [
       "array([ 1.   ,  2.718,  7.389, 20.086, 54.598])"
      ]
     },
     "execution_count": 103,
     "metadata": {},
     "output_type": "execute_result"
    }
   ],
   "source": [
    "np.exp(a)"
   ]
  },
  {
   "cell_type": "markdown",
   "id": "9b7d7dcc",
   "metadata": {},
   "source": [
    "### Transposition"
   ]
  },
  {
   "cell_type": "code",
   "execution_count": 104,
   "id": "7a3450f4",
   "metadata": {},
   "outputs": [
    {
     "data": {
      "text/plain": [
       "array([[0., 1., 1.],\n",
       "       [0., 0., 1.],\n",
       "       [0., 0., 0.]])"
      ]
     },
     "execution_count": 104,
     "metadata": {},
     "output_type": "execute_result"
    }
   ],
   "source": [
    "a = np.triu(np.ones((3, 3)), 1)   # see help(np.triu)\n",
    "a"
   ]
  },
  {
   "cell_type": "code",
   "execution_count": 105,
   "id": "22b8f89a",
   "metadata": {},
   "outputs": [
    {
     "data": {
      "text/plain": [
       "array([[0., 0., 0.],\n",
       "       [1., 0., 0.],\n",
       "       [1., 1., 0.]])"
      ]
     },
     "execution_count": 105,
     "metadata": {},
     "output_type": "execute_result"
    }
   ],
   "source": [
    "a.T"
   ]
  },
  {
   "cell_type": "code",
   "execution_count": 106,
   "id": "d2c6ee9d",
   "metadata": {},
   "outputs": [
    {
     "data": {
      "text/plain": [
       "array([[0, 1, 2],\n",
       "       [3, 4, 5],\n",
       "       [6, 7, 8]])"
      ]
     },
     "execution_count": 106,
     "metadata": {},
     "output_type": "execute_result"
    }
   ],
   "source": [
    "a = np.arange(9).reshape(3, 3)\n",
    "a"
   ]
  },
  {
   "cell_type": "code",
   "execution_count": 107,
   "id": "fb1f65a8",
   "metadata": {},
   "outputs": [
    {
     "data": {
      "text/plain": [
       "array([[0, 3, 6],\n",
       "       [1, 4, 7],\n",
       "       [2, 5, 8]])"
      ]
     },
     "execution_count": 107,
     "metadata": {},
     "output_type": "execute_result"
    }
   ],
   "source": [
    "a.T"
   ]
  },
  {
   "cell_type": "markdown",
   "id": "5fba6340",
   "metadata": {},
   "source": [
    "## Basic reductions"
   ]
  },
  {
   "cell_type": "code",
   "execution_count": 108,
   "id": "634608e7",
   "metadata": {},
   "outputs": [
    {
     "data": {
      "text/plain": [
       "array([1, 2, 3, 4])"
      ]
     },
     "execution_count": 108,
     "metadata": {},
     "output_type": "execute_result"
    }
   ],
   "source": [
    "x = np.array([1, 2, 3, 4])\n",
    "x"
   ]
  },
  {
   "cell_type": "code",
   "execution_count": 109,
   "id": "25d767dc",
   "metadata": {},
   "outputs": [
    {
     "data": {
      "text/plain": [
       "10"
      ]
     },
     "execution_count": 109,
     "metadata": {},
     "output_type": "execute_result"
    }
   ],
   "source": [
    "np.sum(x)"
   ]
  },
  {
   "cell_type": "code",
   "execution_count": 110,
   "id": "f15c290b",
   "metadata": {},
   "outputs": [
    {
     "data": {
      "text/plain": [
       "10"
      ]
     },
     "execution_count": 110,
     "metadata": {},
     "output_type": "execute_result"
    }
   ],
   "source": [
    "x.sum()"
   ]
  },
  {
   "cell_type": "markdown",
   "id": "debfd1cb",
   "metadata": {},
   "source": [
    "### Sum by rows and by columns"
   ]
  },
  {
   "cell_type": "code",
   "execution_count": 111,
   "id": "93737008",
   "metadata": {},
   "outputs": [
    {
     "data": {
      "text/plain": [
       "array([[1, 1],\n",
       "       [2, 2]])"
      ]
     },
     "execution_count": 111,
     "metadata": {},
     "output_type": "execute_result"
    }
   ],
   "source": [
    "x = np.array([[1, 1], [2, 2]])\n",
    "x"
   ]
  },
  {
   "cell_type": "code",
   "execution_count": 112,
   "id": "63cef703",
   "metadata": {},
   "outputs": [
    {
     "data": {
      "text/plain": [
       "array([3, 3])"
      ]
     },
     "execution_count": 112,
     "metadata": {},
     "output_type": "execute_result"
    }
   ],
   "source": [
    "x.sum(axis=0)   # columns (first dimension)"
   ]
  },
  {
   "cell_type": "code",
   "execution_count": 113,
   "id": "1e467b9a",
   "metadata": {},
   "outputs": [
    {
     "data": {
      "text/plain": [
       "(3, 3)"
      ]
     },
     "execution_count": 113,
     "metadata": {},
     "output_type": "execute_result"
    }
   ],
   "source": [
    "x[:, 0].sum(), x[:, 1].sum()"
   ]
  },
  {
   "cell_type": "code",
   "execution_count": 114,
   "id": "08618daa",
   "metadata": {},
   "outputs": [
    {
     "data": {
      "text/plain": [
       "array([2, 4])"
      ]
     },
     "execution_count": 114,
     "metadata": {},
     "output_type": "execute_result"
    }
   ],
   "source": [
    "x.sum(axis=1)   # rows (second dimension)"
   ]
  },
  {
   "cell_type": "code",
   "execution_count": 115,
   "id": "dea5f43a",
   "metadata": {},
   "outputs": [
    {
     "data": {
      "text/plain": [
       "(2, 4)"
      ]
     },
     "execution_count": 115,
     "metadata": {},
     "output_type": "execute_result"
    }
   ],
   "source": [
    "x[0, :].sum(), x[1, :].sum()"
   ]
  },
  {
   "cell_type": "markdown",
   "id": "d7430433",
   "metadata": {},
   "source": [
    "### Extrema"
   ]
  },
  {
   "cell_type": "code",
   "execution_count": 116,
   "id": "12014257",
   "metadata": {},
   "outputs": [
    {
     "data": {
      "text/plain": [
       "array([1, 3, 2])"
      ]
     },
     "execution_count": 116,
     "metadata": {},
     "output_type": "execute_result"
    }
   ],
   "source": [
    "x = np.array([1, 3, 2])\n",
    "x"
   ]
  },
  {
   "cell_type": "code",
   "execution_count": 117,
   "id": "d4651cda",
   "metadata": {},
   "outputs": [
    {
     "data": {
      "text/plain": [
       "1"
      ]
     },
     "execution_count": 117,
     "metadata": {},
     "output_type": "execute_result"
    }
   ],
   "source": [
    "x.min()"
   ]
  },
  {
   "cell_type": "code",
   "execution_count": 118,
   "id": "93416512",
   "metadata": {},
   "outputs": [
    {
     "data": {
      "text/plain": [
       "3"
      ]
     },
     "execution_count": 118,
     "metadata": {},
     "output_type": "execute_result"
    }
   ],
   "source": [
    "x.max()"
   ]
  },
  {
   "cell_type": "code",
   "execution_count": 119,
   "id": "dd6095c9",
   "metadata": {},
   "outputs": [
    {
     "data": {
      "text/plain": [
       "0"
      ]
     },
     "execution_count": 119,
     "metadata": {},
     "output_type": "execute_result"
    }
   ],
   "source": [
    "x.argmin()  # index of minimum"
   ]
  },
  {
   "cell_type": "code",
   "execution_count": 120,
   "id": "ae1d0066",
   "metadata": {},
   "outputs": [
    {
     "data": {
      "text/plain": [
       "1"
      ]
     },
     "execution_count": 120,
     "metadata": {},
     "output_type": "execute_result"
    }
   ],
   "source": [
    "x.argmax()  # index of maximum"
   ]
  },
  {
   "cell_type": "markdown",
   "id": "2b3d4dd9",
   "metadata": {},
   "source": [
    "### Statistics"
   ]
  },
  {
   "cell_type": "code",
   "execution_count": 121,
   "id": "60e53373",
   "metadata": {},
   "outputs": [],
   "source": [
    "x = np.array([1, 2, 3, 1])\n",
    "y = np.array([[1, 2, 3], [5, 6, 1]])"
   ]
  },
  {
   "cell_type": "code",
   "execution_count": 122,
   "id": "4b260a0f",
   "metadata": {},
   "outputs": [
    {
     "data": {
      "text/plain": [
       "array([1, 2, 3, 1])"
      ]
     },
     "execution_count": 122,
     "metadata": {},
     "output_type": "execute_result"
    }
   ],
   "source": [
    "x"
   ]
  },
  {
   "cell_type": "code",
   "execution_count": 123,
   "id": "0dfe8cb2",
   "metadata": {},
   "outputs": [
    {
     "data": {
      "text/plain": [
       "array([[1, 2, 3],\n",
       "       [5, 6, 1]])"
      ]
     },
     "execution_count": 123,
     "metadata": {},
     "output_type": "execute_result"
    }
   ],
   "source": [
    "y"
   ]
  },
  {
   "cell_type": "code",
   "execution_count": 124,
   "id": "62b7f555",
   "metadata": {},
   "outputs": [
    {
     "data": {
      "text/plain": [
       "1.75"
      ]
     },
     "execution_count": 124,
     "metadata": {},
     "output_type": "execute_result"
    }
   ],
   "source": [
    "x.mean()"
   ]
  },
  {
   "cell_type": "code",
   "execution_count": 125,
   "id": "7a649a5c",
   "metadata": {},
   "outputs": [
    {
     "data": {
      "text/plain": [
       "1.5"
      ]
     },
     "execution_count": 125,
     "metadata": {},
     "output_type": "execute_result"
    }
   ],
   "source": [
    "np.median(x)"
   ]
  },
  {
   "cell_type": "code",
   "execution_count": 126,
   "id": "5ca13829",
   "metadata": {},
   "outputs": [
    {
     "data": {
      "text/plain": [
       "0.82915619758885"
      ]
     },
     "execution_count": 126,
     "metadata": {},
     "output_type": "execute_result"
    }
   ],
   "source": [
    "x.std()        "
   ]
  },
  {
   "cell_type": "markdown",
   "id": "be47164c",
   "metadata": {},
   "source": [
    "### Array shape manipulation"
   ]
  },
  {
   "cell_type": "markdown",
   "id": "f84c7dea",
   "metadata": {},
   "source": [
    "### Flattening"
   ]
  },
  {
   "cell_type": "code",
   "execution_count": 127,
   "id": "36b3d916",
   "metadata": {},
   "outputs": [
    {
     "data": {
      "text/plain": [
       "array([[1, 2, 3],\n",
       "       [4, 5, 6]])"
      ]
     },
     "execution_count": 127,
     "metadata": {},
     "output_type": "execute_result"
    }
   ],
   "source": [
    "a = np.array([[1, 2, 3], [4, 5, 6]])\n",
    "a"
   ]
  },
  {
   "cell_type": "code",
   "execution_count": 128,
   "id": "bd1df43f",
   "metadata": {},
   "outputs": [
    {
     "data": {
      "text/plain": [
       "array([1, 2, 3, 4, 5, 6])"
      ]
     },
     "execution_count": 128,
     "metadata": {},
     "output_type": "execute_result"
    }
   ],
   "source": [
    "a.ravel()"
   ]
  },
  {
   "cell_type": "code",
   "execution_count": 129,
   "id": "1ab0c9c8",
   "metadata": {},
   "outputs": [
    {
     "data": {
      "text/plain": [
       "array([[1, 4],\n",
       "       [2, 5],\n",
       "       [3, 6]])"
      ]
     },
     "execution_count": 129,
     "metadata": {},
     "output_type": "execute_result"
    }
   ],
   "source": [
    "a.T"
   ]
  },
  {
   "cell_type": "code",
   "execution_count": 130,
   "id": "14413ea8",
   "metadata": {},
   "outputs": [
    {
     "data": {
      "text/plain": [
       "array([1, 4, 2, 5, 3, 6])"
      ]
     },
     "execution_count": 130,
     "metadata": {},
     "output_type": "execute_result"
    }
   ],
   "source": [
    "a.T.ravel()"
   ]
  },
  {
   "cell_type": "markdown",
   "id": "809ca554",
   "metadata": {},
   "source": [
    "### Reshaping"
   ]
  },
  {
   "cell_type": "code",
   "execution_count": 131,
   "id": "0613b85a",
   "metadata": {},
   "outputs": [
    {
     "data": {
      "text/plain": [
       "(2, 3)"
      ]
     },
     "execution_count": 131,
     "metadata": {},
     "output_type": "execute_result"
    }
   ],
   "source": [
    "a.shape"
   ]
  },
  {
   "cell_type": "code",
   "execution_count": 132,
   "id": "af559983",
   "metadata": {},
   "outputs": [
    {
     "data": {
      "text/plain": [
       "array([1, 2, 3, 4, 5, 6])"
      ]
     },
     "execution_count": 132,
     "metadata": {},
     "output_type": "execute_result"
    }
   ],
   "source": [
    "b = a.ravel()\n",
    "b"
   ]
  },
  {
   "cell_type": "code",
   "execution_count": 133,
   "id": "c95f10e3",
   "metadata": {},
   "outputs": [
    {
     "data": {
      "text/plain": [
       "array([[1, 2, 3],\n",
       "       [4, 5, 6]])"
      ]
     },
     "execution_count": 133,
     "metadata": {},
     "output_type": "execute_result"
    }
   ],
   "source": [
    "b = b.reshape((2, 3))\n",
    "b"
   ]
  },
  {
   "cell_type": "markdown",
   "id": "77f3d299",
   "metadata": {},
   "source": [
    "### Sorting data"
   ]
  },
  {
   "cell_type": "code",
   "execution_count": 134,
   "id": "83b3950d",
   "metadata": {},
   "outputs": [
    {
     "data": {
      "text/plain": [
       "array([[4, 3, 5],\n",
       "       [1, 2, 1]])"
      ]
     },
     "execution_count": 134,
     "metadata": {},
     "output_type": "execute_result"
    }
   ],
   "source": [
    "a = np.array([[4, 3, 5], [1, 2, 1]])\n",
    "a"
   ]
  },
  {
   "cell_type": "code",
   "execution_count": 135,
   "id": "9d619589",
   "metadata": {},
   "outputs": [
    {
     "data": {
      "text/plain": [
       "array([[3, 4, 5],\n",
       "       [1, 1, 2]])"
      ]
     },
     "execution_count": 135,
     "metadata": {},
     "output_type": "execute_result"
    }
   ],
   "source": [
    "b = np.sort(a, axis=1)\n",
    "b"
   ]
  },
  {
   "cell_type": "markdown",
   "id": "b0590ff0",
   "metadata": {},
   "source": [
    "### Rounding"
   ]
  },
  {
   "cell_type": "code",
   "execution_count": 136,
   "id": "12305f63",
   "metadata": {},
   "outputs": [
    {
     "data": {
      "text/plain": [
       "array([1.2, 1.5, 1.6, 2.5, 3.5, 4.5])"
      ]
     },
     "execution_count": 136,
     "metadata": {},
     "output_type": "execute_result"
    }
   ],
   "source": [
    "a = np.array([1.2, 1.5, 1.6, 2.5, 3.5, 4.5])\n",
    "a"
   ]
  },
  {
   "cell_type": "code",
   "execution_count": 137,
   "id": "dc576638",
   "metadata": {},
   "outputs": [
    {
     "data": {
      "text/plain": [
       "array([1., 2., 2., 2., 4., 4.])"
      ]
     },
     "execution_count": 137,
     "metadata": {},
     "output_type": "execute_result"
    }
   ],
   "source": [
    "b = np.around(a)\n",
    "b                    # still floating-point\n"
   ]
  },
  {
   "cell_type": "code",
   "execution_count": 138,
   "id": "756624f0",
   "metadata": {},
   "outputs": [
    {
     "data": {
      "text/plain": [
       "array([1, 2, 2, 2, 4, 4])"
      ]
     },
     "execution_count": 138,
     "metadata": {},
     "output_type": "execute_result"
    }
   ],
   "source": [
    "c = np.around(a).astype(int)\n",
    "c"
   ]
  },
  {
   "cell_type": "markdown",
   "id": "7c07a3f7",
   "metadata": {},
   "source": [
    "## Advanced operations"
   ]
  },
  {
   "cell_type": "code",
   "execution_count": 139,
   "id": "d2c47573",
   "metadata": {},
   "outputs": [
    {
     "data": {
      "text/plain": [
       "poly1d([ 3,  2, -1])"
      ]
     },
     "execution_count": 139,
     "metadata": {},
     "output_type": "execute_result"
    }
   ],
   "source": [
    "p = np.poly1d([3, 2, -1])\n",
    "p"
   ]
  },
  {
   "cell_type": "code",
   "execution_count": 140,
   "id": "a06cedc2",
   "metadata": {},
   "outputs": [
    {
     "data": {
      "text/plain": [
       "-1"
      ]
     },
     "execution_count": 140,
     "metadata": {},
     "output_type": "execute_result"
    }
   ],
   "source": [
    "p(0)"
   ]
  },
  {
   "cell_type": "code",
   "execution_count": 141,
   "id": "f08cae24",
   "metadata": {},
   "outputs": [
    {
     "data": {
      "text/plain": [
       "array([-1.   ,  0.333])"
      ]
     },
     "execution_count": 141,
     "metadata": {},
     "output_type": "execute_result"
    }
   ],
   "source": [
    "p.roots"
   ]
  },
  {
   "cell_type": "code",
   "execution_count": 142,
   "id": "28a955e2",
   "metadata": {},
   "outputs": [
    {
     "data": {
      "text/plain": [
       "2"
      ]
     },
     "execution_count": 142,
     "metadata": {},
     "output_type": "execute_result"
    }
   ],
   "source": [
    "p.order"
   ]
  }
 ],
 "metadata": {
  "hide_input": false,
  "kernelspec": {
   "display_name": "Python 3 (ipykernel)",
   "language": "python",
   "name": "python3"
  },
  "language_info": {
   "codemirror_mode": {
    "name": "ipython",
    "version": 3
   },
   "file_extension": ".py",
   "mimetype": "text/x-python",
   "name": "python",
   "nbconvert_exporter": "python",
   "pygments_lexer": "ipython3",
   "version": "3.10.6"
  },
  "latex_envs": {
   "LaTeX_envs_menu_present": true,
   "autoclose": false,
   "autocomplete": true,
   "bibliofile": "biblio.bib",
   "cite_by": "apalike",
   "current_citInitial": 1,
   "eqLabelWithNumbers": true,
   "eqNumInitial": 1,
   "hotkeys": {
    "equation": "Ctrl-E",
    "itemize": "Ctrl-I"
   },
   "labels_anchors": false,
   "latex_user_defs": false,
   "report_style_numbering": false,
   "user_envs_cfg": false
  },
  "toc": {
   "base_numbering": 1,
   "nav_menu": {},
   "number_sections": true,
   "sideBar": true,
   "skip_h1_title": false,
   "title_cell": "Table of Contents",
   "title_sidebar": "Contents",
   "toc_cell": true,
   "toc_position": {
    "height": "calc(100% - 180px)",
    "left": "10px",
    "top": "150px",
    "width": "360px"
   },
   "toc_section_display": true,
   "toc_window_display": false
  },
  "varInspector": {
   "cols": {
    "lenName": 16,
    "lenType": 16,
    "lenVar": 40
   },
   "kernels_config": {
    "python": {
     "delete_cmd_postfix": "",
     "delete_cmd_prefix": "del ",
     "library": "var_list.py",
     "varRefreshCmd": "print(var_dic_list())"
    },
    "r": {
     "delete_cmd_postfix": ") ",
     "delete_cmd_prefix": "rm(",
     "library": "var_list.r",
     "varRefreshCmd": "cat(var_dic_list()) "
    }
   },
   "types_to_exclude": [
    "module",
    "function",
    "builtin_function_or_method",
    "instance",
    "_Feature"
   ],
   "window_display": false
  }
 },
 "nbformat": 4,
 "nbformat_minor": 5
}
